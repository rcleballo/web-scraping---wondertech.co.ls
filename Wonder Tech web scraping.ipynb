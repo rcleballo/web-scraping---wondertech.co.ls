{
 "cells": [
  {
   "cell_type": "code",
   "execution_count": 1,
   "metadata": {},
   "outputs": [],
   "source": [
    "import requests\n",
    "from bs4 import BeautifulSoup\n",
    "import pandas as pd\n",
    "import random"
   ]
  },
  {
   "cell_type": "code",
   "execution_count": 2,
   "metadata": {},
   "outputs": [],
   "source": [
    "headers = {\n",
    "    'User-Agent': 'Mozilla/5.0 (Windows NT 10.0; Win64; x64) AppleWebKit/537.36 (KHTML, like Gecko) Chrome/129.0.0.0 Safari/537.36'\n",
    "}\n",
    "\n",
    "base_url = 'https://www.wondertech.co.ls'\n",
    "productlinks = []"
   ]
  },
  {
   "cell_type": "code",
   "execution_count": 3,
   "metadata": {},
   "outputs": [],
   "source": [
    "# Define the Product class\n",
    "class Product:\n",
    "    def __init__(self, name=None, ratings=None, reviews=None, price=None):\n",
    "        self.name = name\n",
    "        self.ratings = ratings\n",
    "        self.reviews = reviews\n",
    "        self.price = price\n",
    "\n",
    "    def to_dict(self):\n",
    "        return {\n",
    "            'name': self.name,\n",
    "            'ratings': self.ratings,\n",
    "            'reviews': self.reviews,\n",
    "            'price': self.price\n",
    "        }\n",
    "\n",
    "    def __repr__(self):\n",
    "        return f\"Product(Name: {self.name}, Ratings: {self.ratings}, Reviews: {self.reviews}, Price: {self.price})\"\n",
    "\n",
    "products = []"
   ]
  },
  {
   "cell_type": "code",
   "execution_count": 4,
   "metadata": {},
   "outputs": [],
   "source": [
    "# Loop through pages\n",
    "for x in range(1, 4):\n",
    "    url = f'{base_url}/shop?page={x}'\n",
    "    r = requests.get(url)\n",
    "    soup = BeautifulSoup(r.content, 'lxml')\n",
    "    productlist = soup.find_all('div', class_='col-lg-4 col-md-6 col-sm-6 pb-1')\n",
    "\n",
    "    # Find and store unique product links\n",
    "    for item in productlist:\n",
    "        for link in item.find_all(\"a\", href=True):\n",
    "            href = link['href']\n",
    "            if href not in productlinks and href != 'https://#?':\n",
    "                # Check if it's a relative URL and complete it\n",
    "                full_link = href if href.startswith('http') else base_url + href\n",
    "                productlinks.append(full_link)\n"
   ]
  },
  {
   "cell_type": "code",
   "execution_count": 5,
   "metadata": {},
   "outputs": [],
   "source": [
    "# Iterate over product links and fetch product details\n",
    "for link in productlinks:\n",
    "    r = requests.get(link, headers=headers)\n",
    "    soup = BeautifulSoup(r.content, 'lxml')\n",
    "    \n",
    "    # Create a dictionary to hold the product attributes\n",
    "    product_data = {}\n",
    "    \n",
    "    # Find product name (h3 tag)\n",
    "    name_tag = soup.find('h3')\n",
    "    if name_tag:\n",
    "        product_data['name'] = name_tag.text.strip()\n",
    "    \n",
    "    # Find the review rating (based on stars)\n",
    "    stars = soup.find_all('small', class_='fas fa-star')\n",
    "    half_stars = soup.find_all('small', class_='fas fa-star-half-alt')\n",
    "    if stars or half_stars:\n",
    "        ratings = len(stars) + (0.5 * len(half_stars))\n",
    "        product_data['ratings'] = ratings\n",
    "    \n",
    "    # Find the number of reviews\n",
    "    reviews_tag = soup.find('small', class_='pt-1')\n",
    "    if reviews_tag:\n",
    "        product_data['reviews'] = reviews_tag.text.strip()\n",
    "    \n",
    "    # Find the price\n",
    "    price_tag = soup.find('h3', class_='font-weight-semi-bold mb-4')\n",
    "    if price_tag:\n",
    "        product_data['price'] = price_tag.text.strip()\n",
    "    \n",
    "    # Only create a Product object if we have at least one valid attribute\n",
    "    if product_data:\n",
    "        product = Product(**product_data)\n",
    "        products.append(product)"
   ]
  },
  {
   "cell_type": "code",
   "execution_count": 6,
   "metadata": {},
   "outputs": [],
   "source": [
    "# Convert the list of products to a list of dictionaries\n",
    "product_dicts = [product.to_dict() for product in products]\n",
    "\n",
    "# Create a DataFrame from the list of dictionaries\n",
    "df = pd.DataFrame(product_dicts)"
   ]
  },
  {
   "cell_type": "code",
   "execution_count": 8,
   "metadata": {},
   "outputs": [
    {
     "name": "stdout",
     "output_type": "stream",
     "text": [
      "                                  name  ratings       reviews       price\n",
      "0       DS-2CE16DOT-IRF 2.8 2MP BULLET      3.5  (99 Reviews)     M436.00\n",
      "1        PD Power 18CH PSU 12V 15A PTC      3.5  (99 Reviews)     M859.00\n",
      "2       HIKVISION 8CH PSU 12VDC SURVEI      3.5  (99 Reviews)     M221.00\n",
      "3                     PD POWER 9CH 12V      3.5  (99 Reviews)     M708.00\n",
      "4        DS-2FA1208-C16 16CH HIK POWER      3.5  (99 Reviews)     M290.00\n",
      "5       PSU 12VDC 4CH SURVEILLANCE HIK      3.5  (99 Reviews)     M209.00\n",
      "6               16-ch 1U 16 PoE 4K NVR      3.5  (99 Reviews)  M4, 113.00\n",
      "7                     4-ch Mini 1U NVR      3.5  (99 Reviews)     M929.00\n",
      "8                      16-ch 1U 4K NVR      3.5  (99 Reviews)  M2, 063.00\n",
      "9               8-ch Mini 1U 8 PoE NVR      3.5  (99 Reviews)  M2, 071.00\n",
      "10   16-ch 1.5U 16 POE AcuSense 4K NVR      3.5  (99 Reviews)  M8, 220.00\n",
      "11          16-ch 1.5U AcuSense 4K NVR      3.5  (99 Reviews)  M4, 958.00\n",
      "12                8-ch 1U 8 PoE 4K NVR      3.5  (99 Reviews)  M4, 812.00\n",
      "13                      8-ch 1U 4K NVR      3.5  (99 Reviews)  M2, 395.00\n",
      "14            24-ch 1080p 1U H.265 DVR      3.5  (99 Reviews)  M4, 292.00\n",
      "15  16-ch 1080p Lite Mini 1U H.264 DVR      3.5  (99 Reviews)  M1, 999.00\n",
      "16   8-ch 1080p Mini 1U Lite H.264 DVR      3.5  (99 Reviews)  M1, 333.00\n",
      "17             16-ch 5 MP 1U H.265 DVR      3.5  (99 Reviews)  M6, 312.00\n",
      "18        16-ch 720p Mini 1U H.265 DVR      3.5  (99 Reviews)  M1, 927.00\n",
      "19         8-ch 720p Mini 1U H.265 DVR      3.5  (99 Reviews)  M1, 016.00\n",
      "20        4-ch 1080p Mini 1U H.265 DVR      3.5  (99 Reviews)  M1, 260.00\n"
     ]
    }
   ],
   "source": [
    "# Output the DataFrame\n",
    "print(df)\n",
    "\n",
    "# To save to a CSV file:\n",
    "# df.to_csv('products.csv', index=False)"
   ]
  },
  {
   "cell_type": "code",
   "execution_count": 9,
   "metadata": {},
   "outputs": [],
   "source": [
    "# Sample list of random reviews\n",
    "review_texts = [\n",
    "    \"Great product, fast delivery!\",\n",
    "    \"Satisfactory but could be better.\",\n",
    "    \"Exceeded my expectations, very happy.\",\n",
    "    \"Quality is good, but delivery was slow.\",\n",
    "    \"Not worth the price, quite disappointed.\",\n",
    "    \"Works as expected, nothing special.\",\n",
    "    \"Amazing quality, highly recommend!\",\n",
    "    \"Terrible experience, would not buy again.\",\n",
    "    \"Solid product, will purchase again.\",\n",
    "    \"Good value for money.\"\n",
    "]"
   ]
  },
  {
   "cell_type": "code",
   "execution_count": 10,
   "metadata": {},
   "outputs": [],
   "source": [
    "# Generate random ratings and reviews for 21 products and 10 customers\n",
    "num_products = 21\n",
    "num_customers = 10\n",
    "# product_names = [f'Product {i}' for i in range(1, num_products + 1)]\n",
    "customer_ids = [f'Customer {i}' for i in range(1, num_customers + 1)]"
   ]
  },
  {
   "cell_type": "code",
   "execution_count": 11,
   "metadata": {},
   "outputs": [],
   "source": [
    "# List to store the product review data\n",
    "reviews_data = []\n",
    "\n",
    "# Loop through each product and customer to generate random ratings and reviews\n",
    "for product in product_dicts:\n",
    "    for customer in customer_ids:\n",
    "        rating = random.randint(1, 5)  # Random rating between 1 and 5\n",
    "        review = random.choice(review_texts)  # Random review from the list\n",
    "        reviews_data.append([product, customer, rating, review])"
   ]
  },
  {
   "cell_type": "code",
   "execution_count": 12,
   "metadata": {},
   "outputs": [
    {
     "name": "stdout",
     "output_type": "stream",
     "text": [
      "                                               Product     Customer  Rating  \\\n",
      "0    {'name': 'DS-2CE16DOT-IRF 2.8 2MP BULLET', 'ra...   Customer 1       5   \n",
      "1    {'name': 'DS-2CE16DOT-IRF 2.8 2MP BULLET', 'ra...   Customer 2       5   \n",
      "2    {'name': 'DS-2CE16DOT-IRF 2.8 2MP BULLET', 'ra...   Customer 3       3   \n",
      "3    {'name': 'DS-2CE16DOT-IRF 2.8 2MP BULLET', 'ra...   Customer 4       1   \n",
      "4    {'name': 'DS-2CE16DOT-IRF 2.8 2MP BULLET', 'ra...   Customer 5       3   \n",
      "..                                                 ...          ...     ...   \n",
      "205  {'name': '4-ch 1080p Mini 1U H.265 DVR', 'rati...   Customer 6       4   \n",
      "206  {'name': '4-ch 1080p Mini 1U H.265 DVR', 'rati...   Customer 7       5   \n",
      "207  {'name': '4-ch 1080p Mini 1U H.265 DVR', 'rati...   Customer 8       2   \n",
      "208  {'name': '4-ch 1080p Mini 1U H.265 DVR', 'rati...   Customer 9       2   \n",
      "209  {'name': '4-ch 1080p Mini 1U H.265 DVR', 'rati...  Customer 10       2   \n",
      "\n",
      "                                        Review  \n",
      "0          Works as expected, nothing special.  \n",
      "1                Great product, fast delivery!  \n",
      "2           Amazing quality, highly recommend!  \n",
      "3          Solid product, will purchase again.  \n",
      "4                        Good value for money.  \n",
      "..                                         ...  \n",
      "205        Solid product, will purchase again.  \n",
      "206          Satisfactory but could be better.  \n",
      "207   Not worth the price, quite disappointed.  \n",
      "208  Terrible experience, would not buy again.  \n",
      "209      Exceeded my expectations, very happy.  \n",
      "\n",
      "[210 rows x 4 columns]\n"
     ]
    }
   ],
   "source": [
    "# Convert the data into a DataFrame for easy manipulation and analysis\n",
    "df2 = pd.DataFrame(reviews_data, columns=['Product', 'Customer', 'Rating', 'Review'])\n",
    "\n",
    "# Output the DataFrame\n",
    "print(df2)\n",
    "\n",
    "# Save to a CSV file\n",
    "# df.to_csv('randomized_reviews.csv', index=False)"
   ]
  }
 ],
 "metadata": {
  "kernelspec": {
   "display_name": "Python 3",
   "language": "python",
   "name": "python3"
  },
  "language_info": {
   "codemirror_mode": {
    "name": "ipython",
    "version": 3
   },
   "file_extension": ".py",
   "mimetype": "text/x-python",
   "name": "python",
   "nbconvert_exporter": "python",
   "pygments_lexer": "ipython3",
   "version": "3.12.4"
  }
 },
 "nbformat": 4,
 "nbformat_minor": 2
}
